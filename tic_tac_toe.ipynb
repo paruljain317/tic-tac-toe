{
 "cells": [
  {
   "cell_type": "code",
   "execution_count": 2,
   "metadata": {},
   "outputs": [],
   "source": [
    "def player_input():\n",
    "    marker=' '\n",
    "    \n",
    "    while marker !='X' and marker !='O':\n",
    "        \n",
    "        print(\"player 1: Do you want to be X or O ?\")\n",
    "        marker=input()\n",
    "        \n",
    "    player1=marker    \n",
    "    if player1=='X':\n",
    "        player2='O'\n",
    "    else:\n",
    "        player2='X'\n",
    "    return (player1,player2)\n",
    "\n"
   ]
  },
  {
   "cell_type": "code",
   "execution_count": 3,
   "metadata": {},
   "outputs": [],
   "source": [
    "from IPython.display import clear_output\n",
    "\n",
    "def draw_board(board):\n",
    "    clear_output()\n",
    "    print(\"  |   |   \")\n",
    "    print(board[7]+ \" | \" +board[8]+ \" | \" +board[9])\n",
    "    print(\"  |   |   \")\n",
    "    print(\"----------\")\n",
    "    print(\"  |   |   \")\n",
    "    print(board[4]+ \" | \" +board[5]+ \" | \" +board[6])\n",
    "    print(\"  |   |   \")\n",
    "    print(\"----------\")\n",
    "    print(\"  |   |   \")\n",
    "    print(board[1]+ \" | \" +board[2]+ \" | \" +board[3])\n",
    "    print(\"  |   |   \")\n",
    "\n"
   ]
  },
  {
   "cell_type": "code",
   "execution_count": 4,
   "metadata": {},
   "outputs": [],
   "source": [
    "def place_marker(board,marker,position):\n",
    "    \n",
    "    board[position]=marker\n"
   ]
  },
  {
   "cell_type": "code",
   "execution_count": 5,
   "metadata": {},
   "outputs": [],
   "source": [
    "def win_check(board , mark):\n",
    "    return ((board[7]==mark  and board[8]==mark and board[9]==mark) or \n",
    "           (board[4]==mark  and board[5]==mark and board[6]==mark) or\n",
    "           (board[1]==mark  and board[2]==mark and board[3]==mark) or \n",
    "           (board[7]==mark  and board[4]==mark and board[3]==mark) or\n",
    "           (board[8]==mark  and board[5]==mark and board[2]==mark) or\n",
    "           (board[9]==mark  and board[6]==mark and board[1]==mark) or\n",
    "           (board[7]==mark  and board[5]==mark and board[3]==mark) or\n",
    "           (board[9]==mark  and board[5]==mark and board[1]==mark))"
   ]
  },
  {
   "cell_type": "code",
   "execution_count": 6,
   "metadata": {},
   "outputs": [],
   "source": [
    "def space_check(board,position ):\n",
    "    \n",
    "    return board[position] == ' '"
   ]
  },
  {
   "cell_type": "code",
   "execution_count": 7,
   "metadata": {},
   "outputs": [],
   "source": [
    "def full_board_check(board):\n",
    "    \n",
    "    for i in range(1,10):\n",
    "        if space_check(board,i):\n",
    "            return False\n",
    "    return True\n",
    "    \n",
    "    "
   ]
  },
  {
   "cell_type": "code",
   "execution_count": 8,
   "metadata": {},
   "outputs": [],
   "source": [
    "\n",
    "def player_choice(test_board):\n",
    "    \n",
    "    position=0\n",
    "    \n",
    "    while position not in [1,2,3,4,5,6,7,8,9] or not space_check(test_board,position):\n",
    "        \n",
    "        position = int(input(\"Choose a position : (1-9)\"))\n",
    "    return position\n",
    "                     "
   ]
  },
  {
   "cell_type": "code",
   "execution_count": 9,
   "metadata": {},
   "outputs": [],
   "source": [
    "def replay():\n",
    "    \n",
    "    choice=input(\"do you want to play again? enter yes or no..\")\n",
    "    return choice=='yes'"
   ]
  },
  {
   "cell_type": "code",
   "execution_count": 10,
   "metadata": {},
   "outputs": [],
   "source": [
    "import random\n",
    "\n",
    "def choose_first():\n",
    "    flip=random.randint(0,1)\n",
    "    if flip==0:\n",
    "        return 'player1'\n",
    "    else:\n",
    "        return 'player2'\n"
   ]
  },
  {
   "cell_type": "code",
   "execution_count": 12,
   "metadata": {},
   "outputs": [
    {
     "name": "stdout",
     "output_type": "stream",
     "text": [
      "Welcome to Tic Tac Toe game!!!\n",
      "player 1: Do you want to be X or O ?\n",
      "X\n",
      "player1 will go first..\n",
      "Are you ready to play ? Enter yes or no..\n",
      "no\n",
      "do you want to play again? enter yes or no..no\n",
      "thank you to play!!!\n"
     ]
    }
   ],
   "source": [
    "print(\"Welcome to Tic Tac Toe game!!!\")\n",
    "#name1=input('enter player 1 name ')\n",
    "#name2=input('enter player 2 name ')\n",
    "while True:\n",
    "    test_board=[' ']*10\n",
    "    player1_marker, player2_marker = player_input()\n",
    "    \n",
    "    turn=choose_first()\n",
    "    print(turn + \" will go first..\")\n",
    "    print(\"Are you ready to play ? Enter yes or no..\")\n",
    "    ready=input()\n",
    "     \n",
    "    if ready=='yes':\n",
    "        game_on=True\n",
    "    else:\n",
    "        game_on=False\n",
    "        \n",
    "    while game_on:\n",
    "        \n",
    "        if turn=='player1':\n",
    "            draw_board(test_board)\n",
    "            position = player_choice(test_board)\n",
    "            place_marker(test_board , player1_marker , position)\n",
    "            if win_check(test_board , player1_marker):\n",
    "                draw_board(test_board)\n",
    "                print('PLAYER 1 HAS WON!!!!')\n",
    "                game_on=False\n",
    "            else:\n",
    "                if full_board_check(test_board):\n",
    "                    draw_board(test_board)\n",
    "                    print(\"TIE GAME!!\")\n",
    "                    game_on=False\n",
    "                else:\n",
    "                    turn='player2'\n",
    "           \n",
    "        else:\n",
    "            \n",
    "            draw_board(test_board)\n",
    "            position = player_choice(test_board)\n",
    "            place_marker(test_board , player2_marker , position)\n",
    "            if win_check(test_board , player2_marker):\n",
    "                draw_board(test_board)\n",
    "                print(' PLAYER 2 HAS WON!!!!')\n",
    "                game_on=False\n",
    "            else:\n",
    "                if full_board_check(test_board):\n",
    "                    draw_board(test_board)\n",
    "                    print(\"TIE GAME!!\")\n",
    "                    game_on=False\n",
    "                else:\n",
    "                    turn='player1'\n",
    "                    \n",
    "    if not replay():\n",
    "        print('thank you to play!!!')\n",
    "        break\n",
    "            \n",
    "        "
   ]
  },
  {
   "cell_type": "code",
   "execution_count": null,
   "metadata": {},
   "outputs": [],
   "source": []
  },
  {
   "cell_type": "code",
   "execution_count": null,
   "metadata": {},
   "outputs": [],
   "source": []
  },
  {
   "cell_type": "code",
   "execution_count": null,
   "metadata": {},
   "outputs": [],
   "source": []
  }
 ],
 "metadata": {
  "kernelspec": {
   "display_name": "Python 3",
   "language": "python",
   "name": "python3"
  },
  "language_info": {
   "codemirror_mode": {
    "name": "ipython",
    "version": 3
   },
   "file_extension": ".py",
   "mimetype": "text/x-python",
   "name": "python",
   "nbconvert_exporter": "python",
   "pygments_lexer": "ipython3",
   "version": "3.6.5"
  }
 },
 "nbformat": 4,
 "nbformat_minor": 2
}
